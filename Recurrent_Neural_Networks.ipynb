{
  "nbformat": 4,
  "nbformat_minor": 0,
  "metadata": {
    "colab": {
      "name": "Recurrent_Neural_Networks.ipynb",
      "provenance": [],
      "collapsed_sections": [],
      "mount_file_id": "1pJvd1KWtXmK2oMjzfTu-gkoRzGNmEygT",
      "authorship_tag": "ABX9TyOa3kpWSO2+sO2Im7hTP4ZE",
      "include_colab_link": true
    },
    "kernelspec": {
      "name": "python3",
      "display_name": "Python 3"
    },
    "language_info": {
      "name": "python"
    },
    "accelerator": "GPU"
  },
  "cells": [
    {
      "cell_type": "markdown",
      "metadata": {
        "id": "view-in-github",
        "colab_type": "text"
      },
      "source": [
        "<a href=\"https://colab.research.google.com/github/TetaliVarshitha/WiseML/blob/main/Recurrent_Neural_Networks.ipynb\" target=\"_parent\"><img src=\"https://colab.research.google.com/assets/colab-badge.svg\" alt=\"Open In Colab\"/></a>"
      ]
    },
    {
      "cell_type": "markdown",
      "metadata": {
        "id": "k2bGc4OSwz7y"
      },
      "source": [
        "**Library Declaration:**"
      ]
    },
    {
      "cell_type": "code",
      "metadata": {
        "id": "g7m19vdAQXs5"
      },
      "source": [
        "# try:\n",
        "#   %tensorflow_version 2.x\n",
        "# except Exception:\n",
        "#   pass\n",
        "# import tensorflow as tf"
      ],
      "execution_count": null,
      "outputs": []
    },
    {
      "cell_type": "code",
      "metadata": {
        "id": "1w-QGtH-54Na"
      },
      "source": [
        "import os\n",
        "import numpy as np\n",
        "import pandas as pd\n",
        "import matplotlib.pyplot as plt\n",
        "import seaborn as sbn\n",
        "import warnings\n",
        "warnings.filterwarnings('ignore', category = RuntimeWarning)\n",
        "warnings.filterwarnings('ignore', category = UserWarning)\n",
        "\n",
        "# Importing Normalisation library\n",
        "from sklearn.preprocessing import MinMaxScaler\n",
        "\n",
        "# Importing Keras libraries and Packages\n",
        "from tensorflow.keras.models import Sequential\n",
        "from tensorflow.keras.layers import Dense\n",
        "from tensorflow.keras.layers import LSTM\n",
        "from tensorflow.keras.layers import Dropout\n",
        "\n",
        "# Importing Metrics libraries\n",
        "import math\n",
        "from sklearn.metrics import mean_squared_error\n",
        "\n",
        "# Importing TPU Setup Libraries\n",
        "# tf.enable_eager_execution()\n",
        "# from keras.backend import clear_session\n"
      ],
      "execution_count": null,
      "outputs": []
    },
    {
      "cell_type": "code",
      "metadata": {
        "id": "hgq7690BxEtf"
      },
      "source": [
        "# print(tf.__version__)"
      ],
      "execution_count": null,
      "outputs": []
    },
    {
      "cell_type": "markdown",
      "metadata": {
        "id": "hWI8HnAqxSKd"
      },
      "source": [
        "**TPU Setup:**"
      ]
    },
    {
      "cell_type": "code",
      "metadata": {
        "colab": {
          "base_uri": "https://localhost:8080/"
        },
        "id": "5WZUHjqSxEpG",
        "outputId": "ef3cc137-3f49-4392-ec10-b17bb46fb07b"
      },
      "source": [
        "from google.colab import drive\n",
        "drive.mount('/content/drive')"
      ],
      "execution_count": null,
      "outputs": [
        {
          "output_type": "stream",
          "text": [
            "Drive already mounted at /content/drive; to attempt to forcibly remount, call drive.mount(\"/content/drive\", force_remount=True).\n"
          ],
          "name": "stdout"
        }
      ]
    },
    {
      "cell_type": "code",
      "metadata": {
        "id": "AIZeCmVpxEoi"
      },
      "source": [
        "# TPU_WORKER = 'grpc://' + os.environ['COLAB_TPU_ADDR']"
      ],
      "execution_count": null,
      "outputs": []
    },
    {
      "cell_type": "code",
      "metadata": {
        "id": "LNxZ12qWxEkF"
      },
      "source": [
        "# clear_session()\n",
        "# tf.config.experimental_connect_to_host(TPU_WORKER)\n",
        "# resolver = tf.distribute.cluster_resolver.TPUClusterResolver(TPU_WORKER)\n",
        "# tf.tpu.experimental.initialize_tpu_system(resolver)\n",
        "# strategy = tf.distribute.experimental.TPUStrategy(resolver)"
      ],
      "execution_count": null,
      "outputs": []
    },
    {
      "cell_type": "markdown",
      "metadata": {
        "id": "8SvGPLsexmUR"
      },
      "source": [
        "**Reading Data:**"
      ]
    },
    {
      "cell_type": "code",
      "metadata": {
        "id": "citvrP2gxEjb"
      },
      "source": [
        "data_train = pd.read_csv('/content/drive/MyDrive/Machine Learning/Google_Stock_Price_Train.csv')"
      ],
      "execution_count": null,
      "outputs": []
    },
    {
      "cell_type": "markdown",
      "metadata": {
        "id": "Vhc5kZg2xvcE"
      },
      "source": [
        "**Data Pre-processing:**"
      ]
    },
    {
      "cell_type": "code",
      "metadata": {
        "colab": {
          "base_uri": "https://localhost:8080/",
          "height": 204
        },
        "id": "s-7Jrks4xrTS",
        "outputId": "6642881b-e128-4159-f4a7-d39e11d429f8"
      },
      "source": [
        "data_train.head()"
      ],
      "execution_count": null,
      "outputs": [
        {
          "output_type": "execute_result",
          "data": {
            "text/html": [
              "<div>\n",
              "<style scoped>\n",
              "    .dataframe tbody tr th:only-of-type {\n",
              "        vertical-align: middle;\n",
              "    }\n",
              "\n",
              "    .dataframe tbody tr th {\n",
              "        vertical-align: top;\n",
              "    }\n",
              "\n",
              "    .dataframe thead th {\n",
              "        text-align: right;\n",
              "    }\n",
              "</style>\n",
              "<table border=\"1\" class=\"dataframe\">\n",
              "  <thead>\n",
              "    <tr style=\"text-align: right;\">\n",
              "      <th></th>\n",
              "      <th>Date</th>\n",
              "      <th>Open</th>\n",
              "      <th>High</th>\n",
              "      <th>Low</th>\n",
              "      <th>Close</th>\n",
              "      <th>Volume</th>\n",
              "    </tr>\n",
              "  </thead>\n",
              "  <tbody>\n",
              "    <tr>\n",
              "      <th>0</th>\n",
              "      <td>1/3/2012</td>\n",
              "      <td>325.25</td>\n",
              "      <td>332.83</td>\n",
              "      <td>324.97</td>\n",
              "      <td>663.59</td>\n",
              "      <td>7,380,500</td>\n",
              "    </tr>\n",
              "    <tr>\n",
              "      <th>1</th>\n",
              "      <td>1/4/2012</td>\n",
              "      <td>331.27</td>\n",
              "      <td>333.87</td>\n",
              "      <td>329.08</td>\n",
              "      <td>666.45</td>\n",
              "      <td>5,749,400</td>\n",
              "    </tr>\n",
              "    <tr>\n",
              "      <th>2</th>\n",
              "      <td>1/5/2012</td>\n",
              "      <td>329.83</td>\n",
              "      <td>330.75</td>\n",
              "      <td>326.89</td>\n",
              "      <td>657.21</td>\n",
              "      <td>6,590,300</td>\n",
              "    </tr>\n",
              "    <tr>\n",
              "      <th>3</th>\n",
              "      <td>1/6/2012</td>\n",
              "      <td>328.34</td>\n",
              "      <td>328.77</td>\n",
              "      <td>323.68</td>\n",
              "      <td>648.24</td>\n",
              "      <td>5,405,900</td>\n",
              "    </tr>\n",
              "    <tr>\n",
              "      <th>4</th>\n",
              "      <td>1/9/2012</td>\n",
              "      <td>322.04</td>\n",
              "      <td>322.29</td>\n",
              "      <td>309.46</td>\n",
              "      <td>620.76</td>\n",
              "      <td>11,688,800</td>\n",
              "    </tr>\n",
              "  </tbody>\n",
              "</table>\n",
              "</div>"
            ],
            "text/plain": [
              "       Date    Open    High     Low   Close      Volume\n",
              "0  1/3/2012  325.25  332.83  324.97  663.59   7,380,500\n",
              "1  1/4/2012  331.27  333.87  329.08  666.45   5,749,400\n",
              "2  1/5/2012  329.83  330.75  326.89  657.21   6,590,300\n",
              "3  1/6/2012  328.34  328.77  323.68  648.24   5,405,900\n",
              "4  1/9/2012  322.04  322.29  309.46  620.76  11,688,800"
            ]
          },
          "metadata": {
            "tags": []
          },
          "execution_count": 24
        }
      ]
    },
    {
      "cell_type": "code",
      "metadata": {
        "colab": {
          "base_uri": "https://localhost:8080/"
        },
        "id": "D8myA1SKx0Vk",
        "outputId": "2ed01064-09cb-4f74-dca2-c25f77e1c62c"
      },
      "source": [
        "training_set = data_train.iloc[:, 1:2].values\n",
        "training_set"
      ],
      "execution_count": null,
      "outputs": [
        {
          "output_type": "execute_result",
          "data": {
            "text/plain": [
              "array([[325.25],\n",
              "       [331.27],\n",
              "       [329.83],\n",
              "       ...,\n",
              "       [793.7 ],\n",
              "       [783.33],\n",
              "       [782.75]])"
            ]
          },
          "metadata": {
            "tags": []
          },
          "execution_count": 25
        }
      ]
    },
    {
      "cell_type": "markdown",
      "metadata": {
        "id": "G4hgCO6ax6gO"
      },
      "source": [
        "**Feature Scaling:**"
      ]
    },
    {
      "cell_type": "markdown",
      "metadata": {
        "id": "au9Co8_5yITn"
      },
      "source": [
        "1 to 60 -> 61\n",
        "\n",
        "2 to 61 -> 62\n",
        "\n",
        "3 to 62 -> 63"
      ]
    },
    {
      "cell_type": "code",
      "metadata": {
        "id": "IxDANUKqx0U9"
      },
      "source": [
        "sc = MinMaxScaler(feature_range= (0,1))"
      ],
      "execution_count": null,
      "outputs": []
    },
    {
      "cell_type": "code",
      "metadata": {
        "colab": {
          "base_uri": "https://localhost:8080/"
        },
        "id": "HpOk7y3Ax0QP",
        "outputId": "0f3dc945-8445-4f51-a830-e6572504471b"
      },
      "source": [
        "scaled_training_set = sc.fit_transform(training_set)\n",
        "scaled_training_set"
      ],
      "execution_count": null,
      "outputs": [
        {
          "output_type": "execute_result",
          "data": {
            "text/plain": [
              "array([[0.08581368],\n",
              "       [0.09701243],\n",
              "       [0.09433366],\n",
              "       ...,\n",
              "       [0.95725128],\n",
              "       [0.93796041],\n",
              "       [0.93688146]])"
            ]
          },
          "metadata": {
            "tags": []
          },
          "execution_count": 27
        }
      ]
    },
    {
      "cell_type": "markdown",
      "metadata": {
        "id": "zV5V5P76yVwq"
      },
      "source": [
        "**Creating Datastructure with 60 timesteps and 1 output:**"
      ]
    },
    {
      "cell_type": "code",
      "metadata": {
        "id": "i_wdl7xG75ld"
      },
      "source": [
        "## Using Tensorflow \n",
        "\n",
        "# dataset = tf.data.Dataset.from_tensor_slices(scaled_training_set)\n",
        "# dataset = dataset.window(61, shift=1,drop_remainder=True)\n",
        "# dataset = dataset.flat_map(lambda window: window.batch(61))\n",
        "# dataset = dataset.map(lambda window: (window[:-1], window[-1:]))\n",
        "# x_train = y_train = []\n",
        "# for x, y in dataset:\n",
        "#   x_train.append(x.numpy())\n",
        "#   y_train.append(y.numpy())"
      ],
      "execution_count": null,
      "outputs": []
    },
    {
      "cell_type": "code",
      "metadata": {
        "id": "iTcw4yA3ylkD"
      },
      "source": [
        "# Using Pandas and Slicing\n",
        "x_train, y_train = zip(*[(scaled_training_set[i-60:i, 0]\n",
        "                          ,scaled_training_set[i, 0])\n",
        "                          for i in range(60, 1258)])"
      ],
      "execution_count": null,
      "outputs": []
    },
    {
      "cell_type": "code",
      "metadata": {
        "id": "NhC4r7p3ylfM"
      },
      "source": [
        "x_train, y_train = np.array(x_train), np.array(y_train)"
      ],
      "execution_count": null,
      "outputs": []
    },
    {
      "cell_type": "code",
      "metadata": {
        "id": "rbn2U38Pyleg",
        "colab": {
          "base_uri": "https://localhost:8080/"
        },
        "outputId": "16b20c38-5090-4e63-8441-1ed4f85bf2bf"
      },
      "source": [
        "x_train.shape[1]"
      ],
      "execution_count": null,
      "outputs": [
        {
          "output_type": "execute_result",
          "data": {
            "text/plain": [
              "60"
            ]
          },
          "metadata": {
            "tags": []
          },
          "execution_count": 33
        }
      ]
    },
    {
      "cell_type": "markdown",
      "metadata": {
        "id": "o11tGUL3yxDB"
      },
      "source": [
        "**Reshaping:**"
      ]
    },
    {
      "cell_type": "code",
      "metadata": {
        "id": "07CrDJGpylaF"
      },
      "source": [
        "x_train = np.reshape(x_train, (x_train.shape[0], x_train.shape[1], 1))"
      ],
      "execution_count": null,
      "outputs": []
    },
    {
      "cell_type": "markdown",
      "metadata": {
        "id": "pmp2ow1-y_Ed"
      },
      "source": [
        "**Setting Model Parameters:**"
      ]
    },
    {
      "cell_type": "code",
      "metadata": {
        "id": "jr71uFTdylZU"
      },
      "source": [
        "INPUT_SHAPE = (x_train.shape[1], 1)\n",
        "BATCH_SIZE = 32"
      ],
      "execution_count": null,
      "outputs": []
    },
    {
      "cell_type": "markdown",
      "metadata": {
        "id": "p_K61PSwzI-B"
      },
      "source": [
        "**Model Creation:**"
      ]
    },
    {
      "cell_type": "code",
      "metadata": {
        "id": "A29Wem-bzMhC"
      },
      "source": [
        "# Step 1 - Initialising the RNN\n",
        "rnn_regressor = Sequential()"
      ],
      "execution_count": null,
      "outputs": []
    },
    {
      "cell_type": "code",
      "metadata": {
        "id": "fE7Dqr3OzMm0"
      },
      "source": [
        "# Step 2 - First LSTM and Droput Layer\n",
        "rnn_regressor.add(LSTM(units = 50, return_sequences = True, input_shape = INPUT_SHAPE))\n",
        "rnn_regressor.add(Dropout(0.2))"
      ],
      "execution_count": null,
      "outputs": []
    },
    {
      "cell_type": "code",
      "metadata": {
        "id": "Vh7t76COBly0"
      },
      "source": [
        "# Step 3 - Additional LSTM and Dropout Layers\n",
        "rnn_regressor.add(LSTM(units = 50, return_sequences = True))\n",
        "rnn_regressor.add(Dropout(0.2))\n",
        "\n",
        "rnn_regressor.add(LSTM(units = 75, return_sequences = True))\n",
        "rnn_regressor.add(Dropout(0.2))\n",
        "\n",
        "rnn_regressor.add(LSTM(units = 100, return_sequences = True))\n",
        "rnn_regressor.add(Dropout(0.2))\n",
        "\n",
        "rnn_regressor.add(LSTM(units = 100))\n",
        "rnn_regressor.add(Dropout(0.2))"
      ],
      "execution_count": null,
      "outputs": []
    },
    {
      "cell_type": "code",
      "metadata": {
        "id": "PsQmBfJa1OKg"
      },
      "source": [
        "# Step 4 - Full Connection\n",
        "rnn_regressor.add(Dense(units = 1))"
      ],
      "execution_count": null,
      "outputs": []
    },
    {
      "cell_type": "code",
      "metadata": {
        "id": "1RVy0wsA1OJt"
      },
      "source": [
        "# Compiling the RNN\n",
        "rnn_regressor.compile(optimizer = 'adam', loss = 'mean_squared_error')"
      ],
      "execution_count": null,
      "outputs": []
    },
    {
      "cell_type": "code",
      "metadata": {
        "id": "Am6S5WwI1bnH",
        "colab": {
          "base_uri": "https://localhost:8080/"
        },
        "outputId": "677a41e0-59aa-4232-d237-c55e6f1cf3b6"
      },
      "source": [
        "# Summary of RNN model\n",
        "rnn_regressor.summary()"
      ],
      "execution_count": null,
      "outputs": [
        {
          "output_type": "stream",
          "text": [
            "Model: \"sequential\"\n",
            "_________________________________________________________________\n",
            "Layer (type)                 Output Shape              Param #   \n",
            "=================================================================\n",
            "lstm (LSTM)                  (None, 60, 50)            10400     \n",
            "_________________________________________________________________\n",
            "dropout (Dropout)            (None, 60, 50)            0         \n",
            "_________________________________________________________________\n",
            "lstm_1 (LSTM)                (None, 60, 50)            20200     \n",
            "_________________________________________________________________\n",
            "dropout_1 (Dropout)          (None, 60, 50)            0         \n",
            "_________________________________________________________________\n",
            "lstm_2 (LSTM)                (None, 60, 75)            37800     \n",
            "_________________________________________________________________\n",
            "dropout_2 (Dropout)          (None, 60, 75)            0         \n",
            "_________________________________________________________________\n",
            "lstm_3 (LSTM)                (None, 60, 100)           70400     \n",
            "_________________________________________________________________\n",
            "dropout_3 (Dropout)          (None, 60, 100)           0         \n",
            "_________________________________________________________________\n",
            "lstm_4 (LSTM)                (None, 100)               80400     \n",
            "_________________________________________________________________\n",
            "dropout_4 (Dropout)          (None, 100)               0         \n",
            "_________________________________________________________________\n",
            "dense (Dense)                (None, 1)                 101       \n",
            "=================================================================\n",
            "Total params: 219,301\n",
            "Trainable params: 219,301\n",
            "Non-trainable params: 0\n",
            "_________________________________________________________________\n"
          ],
          "name": "stdout"
        }
      ]
    },
    {
      "cell_type": "markdown",
      "metadata": {
        "id": "zijHRuNv1rT6"
      },
      "source": [
        "**Train the RNN Model:**"
      ]
    },
    {
      "cell_type": "code",
      "metadata": {
        "id": "ULApLKQh1wix",
        "colab": {
          "base_uri": "https://localhost:8080/"
        },
        "outputId": "73d93332-b089-483c-b561-92ad8bcf391d"
      },
      "source": [
        "EPOCHS = 100\n",
        "history = rnn_regressor.fit(\n",
        "    x = x_train,\n",
        "    y = y_train,\n",
        "    epochs = EPOCHS,\n",
        "    batch_size = BATCH_SIZE\n",
        ")"
      ],
      "execution_count": null,
      "outputs": [
        {
          "output_type": "stream",
          "text": [
            "Epoch 1/100\n",
            "38/38 [==============================] - 37s 19ms/step - loss: 0.0865\n",
            "Epoch 2/100\n",
            "38/38 [==============================] - 1s 15ms/step - loss: 0.0052\n",
            "Epoch 3/100\n",
            "38/38 [==============================] - 1s 16ms/step - loss: 0.0048\n",
            "Epoch 4/100\n",
            "38/38 [==============================] - 1s 16ms/step - loss: 0.0052\n",
            "Epoch 5/100\n",
            "38/38 [==============================] - 1s 15ms/step - loss: 0.0044\n",
            "Epoch 6/100\n",
            "38/38 [==============================] - 1s 15ms/step - loss: 0.0048\n",
            "Epoch 7/100\n",
            "38/38 [==============================] - 1s 15ms/step - loss: 0.0035\n",
            "Epoch 8/100\n",
            "38/38 [==============================] - 1s 15ms/step - loss: 0.0042\n",
            "Epoch 9/100\n",
            "38/38 [==============================] - 1s 15ms/step - loss: 0.0045\n",
            "Epoch 10/100\n",
            "38/38 [==============================] - 1s 15ms/step - loss: 0.0041\n",
            "Epoch 11/100\n",
            "38/38 [==============================] - 1s 15ms/step - loss: 0.0037\n",
            "Epoch 12/100\n",
            "38/38 [==============================] - 1s 15ms/step - loss: 0.0036\n",
            "Epoch 13/100\n",
            "38/38 [==============================] - 1s 15ms/step - loss: 0.0035\n",
            "Epoch 14/100\n",
            "38/38 [==============================] - 1s 15ms/step - loss: 0.0034\n",
            "Epoch 15/100\n",
            "38/38 [==============================] - 1s 15ms/step - loss: 0.0028\n",
            "Epoch 16/100\n",
            "38/38 [==============================] - 1s 15ms/step - loss: 0.0031\n",
            "Epoch 17/100\n",
            "38/38 [==============================] - 1s 15ms/step - loss: 0.0029\n",
            "Epoch 18/100\n",
            "38/38 [==============================] - 1s 15ms/step - loss: 0.0037\n",
            "Epoch 19/100\n",
            "38/38 [==============================] - 1s 15ms/step - loss: 0.0036\n",
            "Epoch 20/100\n",
            "38/38 [==============================] - 1s 15ms/step - loss: 0.0034\n",
            "Epoch 21/100\n",
            "38/38 [==============================] - 1s 15ms/step - loss: 0.0026\n",
            "Epoch 22/100\n",
            "38/38 [==============================] - 1s 16ms/step - loss: 0.0031\n",
            "Epoch 23/100\n",
            "38/38 [==============================] - 1s 15ms/step - loss: 0.0046\n",
            "Epoch 24/100\n",
            "38/38 [==============================] - 1s 16ms/step - loss: 0.0041\n",
            "Epoch 25/100\n",
            "38/38 [==============================] - 1s 15ms/step - loss: 0.0032\n",
            "Epoch 26/100\n",
            "38/38 [==============================] - 1s 15ms/step - loss: 0.0033\n",
            "Epoch 27/100\n",
            "38/38 [==============================] - 1s 15ms/step - loss: 0.0026\n",
            "Epoch 28/100\n",
            "38/38 [==============================] - 1s 15ms/step - loss: 0.0025\n",
            "Epoch 29/100\n",
            "38/38 [==============================] - 1s 15ms/step - loss: 0.0023\n",
            "Epoch 30/100\n",
            "38/38 [==============================] - 1s 16ms/step - loss: 0.0023\n",
            "Epoch 31/100\n",
            "38/38 [==============================] - 1s 16ms/step - loss: 0.0033\n",
            "Epoch 32/100\n",
            "38/38 [==============================] - 1s 15ms/step - loss: 0.0023\n",
            "Epoch 33/100\n",
            "38/38 [==============================] - 1s 15ms/step - loss: 0.0026\n",
            "Epoch 34/100\n",
            "38/38 [==============================] - 1s 16ms/step - loss: 0.0023\n",
            "Epoch 35/100\n",
            "38/38 [==============================] - 1s 15ms/step - loss: 0.0020\n",
            "Epoch 36/100\n",
            "38/38 [==============================] - 1s 15ms/step - loss: 0.0023\n",
            "Epoch 37/100\n",
            "38/38 [==============================] - 1s 15ms/step - loss: 0.0025\n",
            "Epoch 38/100\n",
            "38/38 [==============================] - 1s 15ms/step - loss: 0.0022\n",
            "Epoch 39/100\n",
            "38/38 [==============================] - 1s 15ms/step - loss: 0.0024\n",
            "Epoch 40/100\n",
            "38/38 [==============================] - 1s 16ms/step - loss: 0.0022\n",
            "Epoch 41/100\n",
            "38/38 [==============================] - 1s 16ms/step - loss: 0.0022\n",
            "Epoch 42/100\n",
            "38/38 [==============================] - 1s 16ms/step - loss: 0.0023\n",
            "Epoch 43/100\n",
            "38/38 [==============================] - 1s 15ms/step - loss: 0.0026\n",
            "Epoch 44/100\n",
            "38/38 [==============================] - 1s 15ms/step - loss: 0.0025\n",
            "Epoch 45/100\n",
            "38/38 [==============================] - 1s 15ms/step - loss: 0.0021\n",
            "Epoch 46/100\n",
            "38/38 [==============================] - 1s 16ms/step - loss: 0.0023\n",
            "Epoch 47/100\n",
            "38/38 [==============================] - 1s 15ms/step - loss: 0.0024\n",
            "Epoch 48/100\n",
            "38/38 [==============================] - 1s 15ms/step - loss: 0.0025\n",
            "Epoch 49/100\n",
            "38/38 [==============================] - 1s 15ms/step - loss: 0.0019\n",
            "Epoch 50/100\n",
            "38/38 [==============================] - 1s 16ms/step - loss: 0.0017\n",
            "Epoch 51/100\n",
            "38/38 [==============================] - 1s 15ms/step - loss: 0.0018\n",
            "Epoch 52/100\n",
            "38/38 [==============================] - 1s 15ms/step - loss: 0.0017\n",
            "Epoch 53/100\n",
            "38/38 [==============================] - 1s 15ms/step - loss: 0.0025\n",
            "Epoch 54/100\n",
            "38/38 [==============================] - 1s 15ms/step - loss: 0.0019\n",
            "Epoch 55/100\n",
            "38/38 [==============================] - 1s 15ms/step - loss: 0.0019\n",
            "Epoch 56/100\n",
            "38/38 [==============================] - 1s 15ms/step - loss: 0.0018\n",
            "Epoch 57/100\n",
            "38/38 [==============================] - 1s 15ms/step - loss: 0.0019\n",
            "Epoch 58/100\n",
            "38/38 [==============================] - 1s 16ms/step - loss: 0.0020\n",
            "Epoch 59/100\n",
            "38/38 [==============================] - 1s 15ms/step - loss: 0.0018\n",
            "Epoch 60/100\n",
            "38/38 [==============================] - 1s 15ms/step - loss: 0.0017\n",
            "Epoch 61/100\n",
            "38/38 [==============================] - 1s 15ms/step - loss: 0.0018\n",
            "Epoch 62/100\n",
            "38/38 [==============================] - 1s 15ms/step - loss: 0.0018\n",
            "Epoch 63/100\n",
            "38/38 [==============================] - 1s 15ms/step - loss: 0.0018\n",
            "Epoch 64/100\n",
            "38/38 [==============================] - 1s 15ms/step - loss: 0.0017\n",
            "Epoch 65/100\n",
            "38/38 [==============================] - 1s 16ms/step - loss: 0.0014\n",
            "Epoch 66/100\n",
            "38/38 [==============================] - 1s 15ms/step - loss: 0.0014\n",
            "Epoch 67/100\n",
            "38/38 [==============================] - 1s 15ms/step - loss: 0.0016\n",
            "Epoch 68/100\n",
            "38/38 [==============================] - 1s 16ms/step - loss: 0.0017\n",
            "Epoch 69/100\n",
            "38/38 [==============================] - 1s 15ms/step - loss: 0.0016\n",
            "Epoch 70/100\n",
            "38/38 [==============================] - 1s 15ms/step - loss: 0.0016\n",
            "Epoch 71/100\n",
            "38/38 [==============================] - 1s 15ms/step - loss: 0.0019\n",
            "Epoch 72/100\n",
            "38/38 [==============================] - 1s 16ms/step - loss: 0.0014\n",
            "Epoch 73/100\n",
            "38/38 [==============================] - 1s 15ms/step - loss: 0.0014\n",
            "Epoch 74/100\n",
            "38/38 [==============================] - 1s 15ms/step - loss: 0.0016\n",
            "Epoch 75/100\n",
            "38/38 [==============================] - 1s 16ms/step - loss: 0.0014\n",
            "Epoch 76/100\n",
            "38/38 [==============================] - 1s 15ms/step - loss: 0.0014\n",
            "Epoch 77/100\n",
            "38/38 [==============================] - 1s 15ms/step - loss: 0.0014\n",
            "Epoch 78/100\n",
            "38/38 [==============================] - 1s 15ms/step - loss: 0.0015\n",
            "Epoch 79/100\n",
            "38/38 [==============================] - 1s 15ms/step - loss: 0.0018\n",
            "Epoch 80/100\n",
            "38/38 [==============================] - 1s 15ms/step - loss: 0.0016\n",
            "Epoch 81/100\n",
            "38/38 [==============================] - 1s 15ms/step - loss: 0.0015\n",
            "Epoch 82/100\n",
            "38/38 [==============================] - 1s 15ms/step - loss: 0.0020\n",
            "Epoch 83/100\n",
            "38/38 [==============================] - 1s 15ms/step - loss: 0.0015\n",
            "Epoch 84/100\n",
            "38/38 [==============================] - 1s 15ms/step - loss: 0.0016\n",
            "Epoch 85/100\n",
            "38/38 [==============================] - 1s 15ms/step - loss: 0.0014\n",
            "Epoch 86/100\n",
            "38/38 [==============================] - 1s 15ms/step - loss: 0.0013\n",
            "Epoch 87/100\n",
            "38/38 [==============================] - 1s 16ms/step - loss: 0.0015\n",
            "Epoch 88/100\n",
            "38/38 [==============================] - 1s 16ms/step - loss: 0.0016\n",
            "Epoch 89/100\n",
            "38/38 [==============================] - 1s 15ms/step - loss: 0.0014\n",
            "Epoch 90/100\n",
            "38/38 [==============================] - 1s 16ms/step - loss: 0.0017\n",
            "Epoch 91/100\n",
            "38/38 [==============================] - 1s 15ms/step - loss: 0.0014\n",
            "Epoch 92/100\n",
            "38/38 [==============================] - 1s 15ms/step - loss: 0.0013\n",
            "Epoch 93/100\n",
            "38/38 [==============================] - 1s 16ms/step - loss: 0.0015\n",
            "Epoch 94/100\n",
            "38/38 [==============================] - 1s 16ms/step - loss: 0.0012\n",
            "Epoch 95/100\n",
            "38/38 [==============================] - 1s 15ms/step - loss: 0.0013\n",
            "Epoch 96/100\n",
            "38/38 [==============================] - 1s 15ms/step - loss: 0.0015\n",
            "Epoch 97/100\n",
            "38/38 [==============================] - 1s 16ms/step - loss: 0.0014\n",
            "Epoch 98/100\n",
            "38/38 [==============================] - 1s 15ms/step - loss: 0.0015\n",
            "Epoch 99/100\n",
            "38/38 [==============================] - 1s 15ms/step - loss: 0.0015\n",
            "Epoch 100/100\n",
            "38/38 [==============================] - 1s 15ms/step - loss: 0.0012\n"
          ],
          "name": "stdout"
        }
      ]
    },
    {
      "cell_type": "markdown",
      "metadata": {
        "id": "2Xdn9YDO1yvJ"
      },
      "source": [
        "**Prediction and Visualising the result:**"
      ]
    },
    {
      "cell_type": "code",
      "metadata": {
        "id": "E_xq43n5Gp3U"
      },
      "source": [
        "data_test = pd.read_csv('/content/drive/MyDrive/Machine Learning/Google_Stock_Price_Test.csv')"
      ],
      "execution_count": null,
      "outputs": []
    },
    {
      "cell_type": "code",
      "metadata": {
        "id": "L49m9jYi1_Am"
      },
      "source": [
        "# Real stock Price\n",
        "real_stock_price = data_test.iloc[:, 1:2].values"
      ],
      "execution_count": null,
      "outputs": []
    },
    {
      "cell_type": "code",
      "metadata": {
        "id": "5p7ERvCL1-7k",
        "colab": {
          "base_uri": "https://localhost:8080/"
        },
        "outputId": "dfe175fa-70f5-4713-e072-bd267fab37ac"
      },
      "source": [
        "real_stock_price"
      ],
      "execution_count": null,
      "outputs": [
        {
          "output_type": "execute_result",
          "data": {
            "text/plain": [
              "array([[778.81],\n",
              "       [788.36],\n",
              "       [786.08],\n",
              "       [795.26],\n",
              "       [806.4 ],\n",
              "       [807.86],\n",
              "       [805.  ],\n",
              "       [807.14],\n",
              "       [807.48],\n",
              "       [807.08],\n",
              "       [805.81],\n",
              "       [805.12],\n",
              "       [806.91],\n",
              "       [807.25],\n",
              "       [822.3 ],\n",
              "       [829.62],\n",
              "       [837.81],\n",
              "       [834.71],\n",
              "       [814.66],\n",
              "       [796.86]])"
            ]
          },
          "metadata": {
            "tags": []
          },
          "execution_count": 49
        }
      ]
    },
    {
      "cell_type": "code",
      "metadata": {
        "id": "EfH5xyPn1-6z"
      },
      "source": [
        "# Predicting Stock Price of Jan 2017\n",
        "data_total = pd.concat((data_train['Open'], data_test['Open']), axis = 0)\n",
        "inputs = data_total[len(data_total) - len(data_test) - 60:].values  # values for making this a numpy array\n",
        "\n",
        "# Reshaping\n",
        "inputs = inputs.reshape(-1,1)"
      ],
      "execution_count": null,
      "outputs": []
    },
    {
      "cell_type": "code",
      "metadata": {
        "id": "EVP-Ycqw1-2K"
      },
      "source": [
        "# Scaling\n",
        "inputs = sc.transform(inputs) # transform must be used instead of fit_transform to apply the same tranformation which occured in the training set "
      ],
      "execution_count": null,
      "outputs": []
    },
    {
      "cell_type": "code",
      "metadata": {
        "id": "UGCaGQzq1-1Z"
      },
      "source": [
        "# Creating Datastructure with 60 timesteps for test data\n",
        "x_test = [inputs[i-60:i, 0] for i in range(60, 80)]    # For 20 Financial days\n",
        "x_test = np.array(x_test)"
      ],
      "execution_count": null,
      "outputs": []
    },
    {
      "cell_type": "code",
      "metadata": {
        "id": "89MslVsc25Td"
      },
      "source": [
        "# Reshaping\n",
        "x_test = np.reshape(x_test, (x_test.shape[0], x_test.shape[1], 1))"
      ],
      "execution_count": null,
      "outputs": []
    },
    {
      "cell_type": "markdown",
      "metadata": {
        "id": "yO7YaLgI3Bj8"
      },
      "source": [
        "**Prediction of Test Data with Trained RNN:**"
      ]
    },
    {
      "cell_type": "code",
      "metadata": {
        "id": "8HVCq_vN25St"
      },
      "source": [
        "predicted_stock_price = rnn_regressor.predict(x_test)"
      ],
      "execution_count": null,
      "outputs": []
    },
    {
      "cell_type": "code",
      "metadata": {
        "id": "5zK5sbLd3NLy"
      },
      "source": [
        "# Inversing the scaled data to original\n",
        "predicted_stock_price = sc.inverse_transform(predicted_stock_price)"
      ],
      "execution_count": null,
      "outputs": []
    },
    {
      "cell_type": "code",
      "metadata": {
        "id": "rknpvOS43NLF",
        "colab": {
          "base_uri": "https://localhost:8080/"
        },
        "outputId": "e1ab12de-e5f5-435e-f0db-c780dc9ae925"
      },
      "source": [
        "predicted_stock_price"
      ],
      "execution_count": null,
      "outputs": [
        {
          "output_type": "execute_result",
          "data": {
            "text/plain": [
              "array([[793.6764 ],\n",
              "       [791.12787],\n",
              "       [792.3038 ],\n",
              "       [793.2884 ],\n",
              "       [796.3816 ],\n",
              "       [801.92993],\n",
              "       [805.9047 ],\n",
              "       [806.6152 ],\n",
              "       [806.78815],\n",
              "       [806.8787 ],\n",
              "       [806.9526 ],\n",
              "       [806.8436 ],\n",
              "       [806.80664],\n",
              "       [807.6103 ],\n",
              "       [808.5985 ],\n",
              "       [813.9586 ],\n",
              "       [820.28046],\n",
              "       [826.45557],\n",
              "       [828.6663 ],\n",
              "       [823.03766]], dtype=float32)"
            ]
          },
          "metadata": {
            "tags": []
          },
          "execution_count": 58
        }
      ]
    },
    {
      "cell_type": "markdown",
      "metadata": {
        "id": "Oi6E7fvq3Yop"
      },
      "source": [
        "**Visualisation:**"
      ]
    },
    {
      "cell_type": "code",
      "metadata": {
        "id": "P0VDp8se3NBU",
        "colab": {
          "base_uri": "https://localhost:8080/",
          "height": 350
        },
        "outputId": "0eb0460b-9b24-4248-c410-6217a0f8b8e4"
      },
      "source": [
        "plt.figure(figsize=(16, 5))\n",
        "plt.plot(real_stock_price, color = 'blue', label = 'Real Stock Price of JAN 2017')\n",
        "plt.plot(predicted_stock_price, color = 'orange', label = 'Predicted Stock Price of JAN 2017')\n",
        "plt.title('Google Stock Price Prediction')\n",
        "plt.xlabel('Time')\n",
        "plt.ylabel('Stock Price')\n",
        "plt.legend(loc='upper left')\n",
        "plt.show()"
      ],
      "execution_count": null,
      "outputs": [
        {
          "output_type": "display_data",
          "data": {
            "image/png": "[encoded data removed]",
            "text/plain": [
              "<Figure size 1152x360 with 1 Axes>"
            ]
          },
          "metadata": {
            "tags": [],
            "needs_background": "light"
          }
        }
      ]
    },
    {
      "cell_type": "markdown",
      "metadata": {
        "id": "_DGJi8xz3ema"
      },
      "source": [
        "**Performance Evaluation:**"
      ]
    },
    {
      "cell_type": "code",
      "metadata": {
        "id": "V2czILtH3oxt",
        "colab": {
          "base_uri": "https://localhost:8080/"
        },
        "outputId": "57e5aeff-8662-4294-a23a-91f1ecefef64"
      },
      "source": [
        "rmse = math.sqrt(mean_squared_error(real_stock_price, predicted_stock_price))\n",
        "print('Root Mean Squared Error of our RNN model: {}'.format(rmse))"
      ],
      "execution_count": null,
      "outputs": [
        {
          "output_type": "stream",
          "text": [
            "Root Mean Squared Error of our RNN model: 10.253620309834925\n"
          ],
          "name": "stdout"
        }
      ]
    }
  ]
}