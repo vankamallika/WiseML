{
  "nbformat": 4,
  "nbformat_minor": 0,
  "metadata": {
    "colab": {
      "name": "Iris_PCA.ipynb",
      "provenance": [],
      "collapsed_sections": [],
      "mount_file_id": "1xsd3q04EwPDVQu3TurOaZoi_aQY_NHGk",
      "authorship_tag": "ABX9TyP0BRPcDt0K5YTrXxfd1uWZ",
      "include_colab_link": true
    },
    "kernelspec": {
      "name": "python3",
      "display_name": "Python 3"
    },
    "language_info": {
      "name": "python"
    }
  },
  "cells": [
    {
      "cell_type": "markdown",
      "metadata": {
        "id": "view-in-github",
        "colab_type": "text"
      },
      "source": [
        "<a href=\"https://colab.research.google.com/github/TetaliVarshitha/WiseML/blob/main/Iris_PCA.ipynb\" target=\"_parent\"><img src=\"https://colab.research.google.com/assets/colab-badge.svg\" alt=\"Open In Colab\"/></a>"
      ]
    },
    {
      "cell_type": "markdown",
      "metadata": {
        "id": "zw434jRys8L4"
      },
      "source": [
        "**Importing necessary libraries:**"
      ]
    },
    {
      "cell_type": "code",
      "metadata": {
        "id": "sR3xwL7etCaD"
      },
      "source": [
        "import pandas as pd\n",
        "import matplotlib.pyplot as plt\n",
        "\n",
        "from sklearn.preprocessing import StandardScaler\n",
        "from sklearn.decomposition import PCA"
      ],
      "execution_count": 1,
      "outputs": []
    },
    {
      "cell_type": "markdown",
      "metadata": {
        "id": "O_lVloO6tJWt"
      },
      "source": [
        "**Loading Datasets:**"
      ]
    },
    {
      "cell_type": "code",
      "metadata": {
        "id": "VPoxR5g8tNGI"
      },
      "source": [
        "data = pd.read_csv(\"/content/drive/MyDrive/Machine Learning/Iris.csv\")"
      ],
      "execution_count": 2,
      "outputs": []
    },
    {
      "cell_type": "code",
      "metadata": {
        "colab": {
          "base_uri": "https://localhost:8080/"
        },
        "id": "dyvuMLDVtaf5",
        "outputId": "c7697771-a8be-43b5-a870-874940419d01"
      },
      "source": [
        "data.shape"
      ],
      "execution_count": 3,
      "outputs": [
        {
          "output_type": "execute_result",
          "data": {
            "text/plain": [
              "(150, 6)"
            ]
          },
          "metadata": {
            "tags": []
          },
          "execution_count": 3
        }
      ]
    },
    {
      "cell_type": "code",
      "metadata": {
        "colab": {
          "base_uri": "https://localhost:8080/",
          "height": 204
        },
        "id": "rD07GR4Gtae_",
        "outputId": "f6a741a5-030c-4f76-919c-0451de83685b"
      },
      "source": [
        "data.head()"
      ],
      "execution_count": 4,
      "outputs": [
        {
          "output_type": "execute_result",
          "data": {
            "text/html": [
              "<div>\n",
              "<style scoped>\n",
              "    .dataframe tbody tr th:only-of-type {\n",
              "        vertical-align: middle;\n",
              "    }\n",
              "\n",
              "    .dataframe tbody tr th {\n",
              "        vertical-align: top;\n",
              "    }\n",
              "\n",
              "    .dataframe thead th {\n",
              "        text-align: right;\n",
              "    }\n",
              "</style>\n",
              "<table border=\"1\" class=\"dataframe\">\n",
              "  <thead>\n",
              "    <tr style=\"text-align: right;\">\n",
              "      <th></th>\n",
              "      <th>Id</th>\n",
              "      <th>SepalLengthCm</th>\n",
              "      <th>SepalWidthCm</th>\n",
              "      <th>PetalLengthCm</th>\n",
              "      <th>PetalWidthCm</th>\n",
              "      <th>Species</th>\n",
              "    </tr>\n",
              "  </thead>\n",
              "  <tbody>\n",
              "    <tr>\n",
              "      <th>0</th>\n",
              "      <td>1</td>\n",
              "      <td>5.1</td>\n",
              "      <td>3.5</td>\n",
              "      <td>1.4</td>\n",
              "      <td>0.2</td>\n",
              "      <td>Iris-setosa</td>\n",
              "    </tr>\n",
              "    <tr>\n",
              "      <th>1</th>\n",
              "      <td>2</td>\n",
              "      <td>4.9</td>\n",
              "      <td>3.0</td>\n",
              "      <td>1.4</td>\n",
              "      <td>0.2</td>\n",
              "      <td>Iris-setosa</td>\n",
              "    </tr>\n",
              "    <tr>\n",
              "      <th>2</th>\n",
              "      <td>3</td>\n",
              "      <td>4.7</td>\n",
              "      <td>3.2</td>\n",
              "      <td>1.3</td>\n",
              "      <td>0.2</td>\n",
              "      <td>Iris-setosa</td>\n",
              "    </tr>\n",
              "    <tr>\n",
              "      <th>3</th>\n",
              "      <td>4</td>\n",
              "      <td>4.6</td>\n",
              "      <td>3.1</td>\n",
              "      <td>1.5</td>\n",
              "      <td>0.2</td>\n",
              "      <td>Iris-setosa</td>\n",
              "    </tr>\n",
              "    <tr>\n",
              "      <th>4</th>\n",
              "      <td>5</td>\n",
              "      <td>5.0</td>\n",
              "      <td>3.6</td>\n",
              "      <td>1.4</td>\n",
              "      <td>0.2</td>\n",
              "      <td>Iris-setosa</td>\n",
              "    </tr>\n",
              "  </tbody>\n",
              "</table>\n",
              "</div>"
            ],
            "text/plain": [
              "   Id  SepalLengthCm  SepalWidthCm  PetalLengthCm  PetalWidthCm      Species\n",
              "0   1            5.1           3.5            1.4           0.2  Iris-setosa\n",
              "1   2            4.9           3.0            1.4           0.2  Iris-setosa\n",
              "2   3            4.7           3.2            1.3           0.2  Iris-setosa\n",
              "3   4            4.6           3.1            1.5           0.2  Iris-setosa\n",
              "4   5            5.0           3.6            1.4           0.2  Iris-setosa"
            ]
          },
          "metadata": {
            "tags": []
          },
          "execution_count": 4
        }
      ]
    },
    {
      "cell_type": "markdown",
      "metadata": {
        "id": "GKDOkwdwtiTu"
      },
      "source": [
        "**Extracting features and labels separately:**"
      ]
    },
    {
      "cell_type": "code",
      "metadata": {
        "id": "4hd-A4zytnxz"
      },
      "source": [
        "featurenames = ['SepalLengthCm', 'SepalWidthCm', 'PetalLengthCm', 'PetalWidthCm']\n",
        "# separating features\n",
        "features = data.loc[:,featurenames]\n",
        "\n",
        "# separating target\n",
        "labels = data.loc[:,'Species']"
      ],
      "execution_count": 5,
      "outputs": []
    },
    {
      "cell_type": "markdown",
      "metadata": {
        "id": "nUjp3gCeuBIJ"
      },
      "source": [
        "**Standardizing Features:**"
      ]
    },
    {
      "cell_type": "code",
      "metadata": {
        "id": "ln4L8L-AuJsD"
      },
      "source": [
        "features = StandardScaler().fit_transform(features)"
      ],
      "execution_count": 6,
      "outputs": []
    },
    {
      "cell_type": "code",
      "metadata": {
        "colab": {
          "base_uri": "https://localhost:8080/"
        },
        "id": "iJMYgX7xuKsJ",
        "outputId": "a1eceff7-8697-46cd-fef2-cbf3c901c362"
      },
      "source": [
        "print(features)"
      ],
      "execution_count": 7,
      "outputs": [
        {
          "output_type": "stream",
          "text": [
            "[[-9.00681170e-01  1.03205722e+00 -1.34127240e+00 -1.31297673e+00]\n",
            " [-1.14301691e+00 -1.24957601e-01 -1.34127240e+00 -1.31297673e+00]\n",
            " [-1.38535265e+00  3.37848329e-01 -1.39813811e+00 -1.31297673e+00]\n",
            " [-1.50652052e+00  1.06445364e-01 -1.28440670e+00 -1.31297673e+00]\n",
            " [-1.02184904e+00  1.26346019e+00 -1.34127240e+00 -1.31297673e+00]\n",
            " [-5.37177559e-01  1.95766909e+00 -1.17067529e+00 -1.05003079e+00]\n",
            " [-1.50652052e+00  8.00654259e-01 -1.34127240e+00 -1.18150376e+00]\n",
            " [-1.02184904e+00  8.00654259e-01 -1.28440670e+00 -1.31297673e+00]\n",
            " [-1.74885626e+00 -3.56360566e-01 -1.34127240e+00 -1.31297673e+00]\n",
            " [-1.14301691e+00  1.06445364e-01 -1.28440670e+00 -1.44444970e+00]\n",
            " [-5.37177559e-01  1.49486315e+00 -1.28440670e+00 -1.31297673e+00]\n",
            " [-1.26418478e+00  8.00654259e-01 -1.22754100e+00 -1.31297673e+00]\n",
            " [-1.26418478e+00 -1.24957601e-01 -1.34127240e+00 -1.44444970e+00]\n",
            " [-1.87002413e+00 -1.24957601e-01 -1.51186952e+00 -1.44444970e+00]\n",
            " [-5.25060772e-02  2.18907205e+00 -1.45500381e+00 -1.31297673e+00]\n",
            " [-1.73673948e-01  3.11468391e+00 -1.28440670e+00 -1.05003079e+00]\n",
            " [-5.37177559e-01  1.95766909e+00 -1.39813811e+00 -1.05003079e+00]\n",
            " [-9.00681170e-01  1.03205722e+00 -1.34127240e+00 -1.18150376e+00]\n",
            " [-1.73673948e-01  1.72626612e+00 -1.17067529e+00 -1.18150376e+00]\n",
            " [-9.00681170e-01  1.72626612e+00 -1.28440670e+00 -1.18150376e+00]\n",
            " [-5.37177559e-01  8.00654259e-01 -1.17067529e+00 -1.31297673e+00]\n",
            " [-9.00681170e-01  1.49486315e+00 -1.28440670e+00 -1.05003079e+00]\n",
            " [-1.50652052e+00  1.26346019e+00 -1.56873522e+00 -1.31297673e+00]\n",
            " [-9.00681170e-01  5.69251294e-01 -1.17067529e+00 -9.18557817e-01]\n",
            " [-1.26418478e+00  8.00654259e-01 -1.05694388e+00 -1.31297673e+00]\n",
            " [-1.02184904e+00 -1.24957601e-01 -1.22754100e+00 -1.31297673e+00]\n",
            " [-1.02184904e+00  8.00654259e-01 -1.22754100e+00 -1.05003079e+00]\n",
            " [-7.79513300e-01  1.03205722e+00 -1.28440670e+00 -1.31297673e+00]\n",
            " [-7.79513300e-01  8.00654259e-01 -1.34127240e+00 -1.31297673e+00]\n",
            " [-1.38535265e+00  3.37848329e-01 -1.22754100e+00 -1.31297673e+00]\n",
            " [-1.26418478e+00  1.06445364e-01 -1.22754100e+00 -1.31297673e+00]\n",
            " [-5.37177559e-01  8.00654259e-01 -1.28440670e+00 -1.05003079e+00]\n",
            " [-7.79513300e-01  2.42047502e+00 -1.28440670e+00 -1.44444970e+00]\n",
            " [-4.16009689e-01  2.65187798e+00 -1.34127240e+00 -1.31297673e+00]\n",
            " [-1.14301691e+00  1.06445364e-01 -1.28440670e+00 -1.44444970e+00]\n",
            " [-1.02184904e+00  3.37848329e-01 -1.45500381e+00 -1.31297673e+00]\n",
            " [-4.16009689e-01  1.03205722e+00 -1.39813811e+00 -1.31297673e+00]\n",
            " [-1.14301691e+00  1.06445364e-01 -1.28440670e+00 -1.44444970e+00]\n",
            " [-1.74885626e+00 -1.24957601e-01 -1.39813811e+00 -1.31297673e+00]\n",
            " [-9.00681170e-01  8.00654259e-01 -1.28440670e+00 -1.31297673e+00]\n",
            " [-1.02184904e+00  1.03205722e+00 -1.39813811e+00 -1.18150376e+00]\n",
            " [-1.62768839e+00 -1.74477836e+00 -1.39813811e+00 -1.18150376e+00]\n",
            " [-1.74885626e+00  3.37848329e-01 -1.39813811e+00 -1.31297673e+00]\n",
            " [-1.02184904e+00  1.03205722e+00 -1.22754100e+00 -7.87084847e-01]\n",
            " [-9.00681170e-01  1.72626612e+00 -1.05694388e+00 -1.05003079e+00]\n",
            " [-1.26418478e+00 -1.24957601e-01 -1.34127240e+00 -1.18150376e+00]\n",
            " [-9.00681170e-01  1.72626612e+00 -1.22754100e+00 -1.31297673e+00]\n",
            " [-1.50652052e+00  3.37848329e-01 -1.34127240e+00 -1.31297673e+00]\n",
            " [-6.58345429e-01  1.49486315e+00 -1.28440670e+00 -1.31297673e+00]\n",
            " [-1.02184904e+00  5.69251294e-01 -1.34127240e+00 -1.31297673e+00]\n",
            " [ 1.40150837e+00  3.37848329e-01  5.35295827e-01  2.64698913e-01]\n",
            " [ 6.74501145e-01  3.37848329e-01  4.21564419e-01  3.96171883e-01]\n",
            " [ 1.28034050e+00  1.06445364e-01  6.49027235e-01  3.96171883e-01]\n",
            " [-4.16009689e-01 -1.74477836e+00  1.37235899e-01  1.33225943e-01]\n",
            " [ 7.95669016e-01 -5.87763531e-01  4.78430123e-01  3.96171883e-01]\n",
            " [-1.73673948e-01 -5.87763531e-01  4.21564419e-01  1.33225943e-01]\n",
            " [ 5.53333275e-01  5.69251294e-01  5.35295827e-01  5.27644853e-01]\n",
            " [-1.14301691e+00 -1.51337539e+00 -2.60824029e-01 -2.61192967e-01]\n",
            " [ 9.16836886e-01 -3.56360566e-01  4.78430123e-01  1.33225943e-01]\n",
            " [-7.79513300e-01 -8.19166497e-01  8.03701950e-02  2.64698913e-01]\n",
            " [-1.02184904e+00 -2.43898725e+00 -1.47092621e-01 -2.61192967e-01]\n",
            " [ 6.86617933e-02 -1.24957601e-01  2.50967307e-01  3.96171883e-01]\n",
            " [ 1.89829664e-01 -1.97618132e+00  1.37235899e-01 -2.61192967e-01]\n",
            " [ 3.10997534e-01 -3.56360566e-01  5.35295827e-01  2.64698913e-01]\n",
            " [-2.94841818e-01 -3.56360566e-01 -9.02269170e-02  1.33225943e-01]\n",
            " [ 1.03800476e+00  1.06445364e-01  3.64698715e-01  2.64698913e-01]\n",
            " [-2.94841818e-01 -1.24957601e-01  4.21564419e-01  3.96171883e-01]\n",
            " [-5.25060772e-02 -8.19166497e-01  1.94101603e-01 -2.61192967e-01]\n",
            " [ 4.32165405e-01 -1.97618132e+00  4.21564419e-01  3.96171883e-01]\n",
            " [-2.94841818e-01 -1.28197243e+00  8.03701950e-02 -1.29719997e-01]\n",
            " [ 6.86617933e-02  3.37848329e-01  5.92161531e-01  7.90590793e-01]\n",
            " [ 3.10997534e-01 -5.87763531e-01  1.37235899e-01  1.33225943e-01]\n",
            " [ 5.53333275e-01 -1.28197243e+00  6.49027235e-01  3.96171883e-01]\n",
            " [ 3.10997534e-01 -5.87763531e-01  5.35295827e-01  1.75297293e-03]\n",
            " [ 6.74501145e-01 -3.56360566e-01  3.07833011e-01  1.33225943e-01]\n",
            " [ 9.16836886e-01 -1.24957601e-01  3.64698715e-01  2.64698913e-01]\n",
            " [ 1.15917263e+00 -5.87763531e-01  5.92161531e-01  2.64698913e-01]\n",
            " [ 1.03800476e+00 -1.24957601e-01  7.05892939e-01  6.59117823e-01]\n",
            " [ 1.89829664e-01 -3.56360566e-01  4.21564419e-01  3.96171883e-01]\n",
            " [-1.73673948e-01 -1.05056946e+00 -1.47092621e-01 -2.61192967e-01]\n",
            " [-4.16009689e-01 -1.51337539e+00  2.35044910e-02 -1.29719997e-01]\n",
            " [-4.16009689e-01 -1.51337539e+00 -3.33612130e-02 -2.61192967e-01]\n",
            " [-5.25060772e-02 -8.19166497e-01  8.03701950e-02  1.75297293e-03]\n",
            " [ 1.89829664e-01 -8.19166497e-01  7.62758643e-01  5.27644853e-01]\n",
            " [-5.37177559e-01 -1.24957601e-01  4.21564419e-01  3.96171883e-01]\n",
            " [ 1.89829664e-01  8.00654259e-01  4.21564419e-01  5.27644853e-01]\n",
            " [ 1.03800476e+00  1.06445364e-01  5.35295827e-01  3.96171883e-01]\n",
            " [ 5.53333275e-01 -1.74477836e+00  3.64698715e-01  1.33225943e-01]\n",
            " [-2.94841818e-01 -1.24957601e-01  1.94101603e-01  1.33225943e-01]\n",
            " [-4.16009689e-01 -1.28197243e+00  1.37235899e-01  1.33225943e-01]\n",
            " [-4.16009689e-01 -1.05056946e+00  3.64698715e-01  1.75297293e-03]\n",
            " [ 3.10997534e-01 -1.24957601e-01  4.78430123e-01  2.64698913e-01]\n",
            " [-5.25060772e-02 -1.05056946e+00  1.37235899e-01  1.75297293e-03]\n",
            " [-1.02184904e+00 -1.74477836e+00 -2.60824029e-01 -2.61192967e-01]\n",
            " [-2.94841818e-01 -8.19166497e-01  2.50967307e-01  1.33225943e-01]\n",
            " [-1.73673948e-01 -1.24957601e-01  2.50967307e-01  1.75297293e-03]\n",
            " [-1.73673948e-01 -3.56360566e-01  2.50967307e-01  1.33225943e-01]\n",
            " [ 4.32165405e-01 -3.56360566e-01  3.07833011e-01  1.33225943e-01]\n",
            " [-9.00681170e-01 -1.28197243e+00 -4.31421141e-01 -1.29719997e-01]\n",
            " [-1.73673948e-01 -5.87763531e-01  1.94101603e-01  1.33225943e-01]\n",
            " [ 5.53333275e-01  5.69251294e-01  1.27454998e+00  1.71090158e+00]\n",
            " [-5.25060772e-02 -8.19166497e-01  7.62758643e-01  9.22063763e-01]\n",
            " [ 1.52267624e+00 -1.24957601e-01  1.21768427e+00  1.18500970e+00]\n",
            " [ 5.53333275e-01 -3.56360566e-01  1.04708716e+00  7.90590793e-01]\n",
            " [ 7.95669016e-01 -1.24957601e-01  1.16081857e+00  1.31648267e+00]\n",
            " [ 2.12851559e+00 -1.24957601e-01  1.61574420e+00  1.18500970e+00]\n",
            " [-1.14301691e+00 -1.28197243e+00  4.21564419e-01  6.59117823e-01]\n",
            " [ 1.76501198e+00 -3.56360566e-01  1.44514709e+00  7.90590793e-01]\n",
            " [ 1.03800476e+00 -1.28197243e+00  1.16081857e+00  7.90590793e-01]\n",
            " [ 1.64384411e+00  1.26346019e+00  1.33141568e+00  1.71090158e+00]\n",
            " [ 7.95669016e-01  3.37848329e-01  7.62758643e-01  1.05353673e+00]\n",
            " [ 6.74501145e-01 -8.19166497e-01  8.76490051e-01  9.22063763e-01]\n",
            " [ 1.15917263e+00 -1.24957601e-01  9.90221459e-01  1.18500970e+00]\n",
            " [-1.73673948e-01 -1.28197243e+00  7.05892939e-01  1.05353673e+00]\n",
            " [-5.25060772e-02 -5.87763531e-01  7.62758643e-01  1.57942861e+00]\n",
            " [ 6.74501145e-01  3.37848329e-01  8.76490051e-01  1.44795564e+00]\n",
            " [ 7.95669016e-01 -1.24957601e-01  9.90221459e-01  7.90590793e-01]\n",
            " [ 2.24968346e+00  1.72626612e+00  1.67260991e+00  1.31648267e+00]\n",
            " [ 2.24968346e+00 -1.05056946e+00  1.78634131e+00  1.44795564e+00]\n",
            " [ 1.89829664e-01 -1.97618132e+00  7.05892939e-01  3.96171883e-01]\n",
            " [ 1.28034050e+00  3.37848329e-01  1.10395287e+00  1.44795564e+00]\n",
            " [-2.94841818e-01 -5.87763531e-01  6.49027235e-01  1.05353673e+00]\n",
            " [ 2.24968346e+00 -5.87763531e-01  1.67260991e+00  1.05353673e+00]\n",
            " [ 5.53333275e-01 -8.19166497e-01  6.49027235e-01  7.90590793e-01]\n",
            " [ 1.03800476e+00  5.69251294e-01  1.10395287e+00  1.18500970e+00]\n",
            " [ 1.64384411e+00  3.37848329e-01  1.27454998e+00  7.90590793e-01]\n",
            " [ 4.32165405e-01 -5.87763531e-01  5.92161531e-01  7.90590793e-01]\n",
            " [ 3.10997534e-01 -1.24957601e-01  6.49027235e-01  7.90590793e-01]\n",
            " [ 6.74501145e-01 -5.87763531e-01  1.04708716e+00  1.18500970e+00]\n",
            " [ 1.64384411e+00 -1.24957601e-01  1.16081857e+00  5.27644853e-01]\n",
            " [ 1.88617985e+00 -5.87763531e-01  1.33141568e+00  9.22063763e-01]\n",
            " [ 2.49201920e+00  1.72626612e+00  1.50201279e+00  1.05353673e+00]\n",
            " [ 6.74501145e-01 -5.87763531e-01  1.04708716e+00  1.31648267e+00]\n",
            " [ 5.53333275e-01 -5.87763531e-01  7.62758643e-01  3.96171883e-01]\n",
            " [ 3.10997534e-01 -1.05056946e+00  1.04708716e+00  2.64698913e-01]\n",
            " [ 2.24968346e+00 -1.24957601e-01  1.33141568e+00  1.44795564e+00]\n",
            " [ 5.53333275e-01  8.00654259e-01  1.04708716e+00  1.57942861e+00]\n",
            " [ 6.74501145e-01  1.06445364e-01  9.90221459e-01  7.90590793e-01]\n",
            " [ 1.89829664e-01 -1.24957601e-01  5.92161531e-01  7.90590793e-01]\n",
            " [ 1.28034050e+00  1.06445364e-01  9.33355755e-01  1.18500970e+00]\n",
            " [ 1.03800476e+00  1.06445364e-01  1.04708716e+00  1.57942861e+00]\n",
            " [ 1.28034050e+00  1.06445364e-01  7.62758643e-01  1.44795564e+00]\n",
            " [-5.25060772e-02 -8.19166497e-01  7.62758643e-01  9.22063763e-01]\n",
            " [ 1.15917263e+00  3.37848329e-01  1.21768427e+00  1.44795564e+00]\n",
            " [ 1.03800476e+00  5.69251294e-01  1.10395287e+00  1.71090158e+00]\n",
            " [ 1.03800476e+00 -1.24957601e-01  8.19624347e-01  1.44795564e+00]\n",
            " [ 5.53333275e-01 -1.28197243e+00  7.05892939e-01  9.22063763e-01]\n",
            " [ 7.95669016e-01 -1.24957601e-01  8.19624347e-01  1.05353673e+00]\n",
            " [ 4.32165405e-01  8.00654259e-01  9.33355755e-01  1.44795564e+00]\n",
            " [ 6.86617933e-02 -1.24957601e-01  7.62758643e-01  7.90590793e-01]]\n"
          ],
          "name": "stdout"
        }
      ]
    },
    {
      "cell_type": "markdown",
      "metadata": {
        "id": "1nSvDFPluZEU"
      },
      "source": [
        "**Reducing 4D to 2D:**"
      ]
    },
    {
      "cell_type": "code",
      "metadata": {
        "colab": {
          "base_uri": "https://localhost:8080/",
          "height": 436
        },
        "id": "6XcK3y8uud2P",
        "outputId": "3944a2e1-ba8b-41bf-8e0d-9ed66b60219f"
      },
      "source": [
        "import numpy as np\n",
        "pca = PCA(n_components=2)\n",
        "\n",
        "pct = pca.fit_transform(features)\n",
        "\n",
        "print(np.cumsum(pca.explained_variance_ratio_))\n",
        "principal_df = pd.DataFrame(pct,columns=['pc1','pc2'])\n",
        "display(principal_df)\n",
        "finaldf = pd.concat([principal_df,labels],axis=1)"
      ],
      "execution_count": 8,
      "outputs": [
        {
          "output_type": "stream",
          "text": [
            "[0.72770452 0.95800975]\n"
          ],
          "name": "stdout"
        },
        {
          "output_type": "display_data",
          "data": {
            "text/html": [
              "<div>\n",
              "<style scoped>\n",
              "    .dataframe tbody tr th:only-of-type {\n",
              "        vertical-align: middle;\n",
              "    }\n",
              "\n",
              "    .dataframe tbody tr th {\n",
              "        vertical-align: top;\n",
              "    }\n",
              "\n",
              "    .dataframe thead th {\n",
              "        text-align: right;\n",
              "    }\n",
              "</style>\n",
              "<table border=\"1\" class=\"dataframe\">\n",
              "  <thead>\n",
              "    <tr style=\"text-align: right;\">\n",
              "      <th></th>\n",
              "      <th>pc1</th>\n",
              "      <th>pc2</th>\n",
              "    </tr>\n",
              "  </thead>\n",
              "  <tbody>\n",
              "    <tr>\n",
              "      <th>0</th>\n",
              "      <td>-2.264542</td>\n",
              "      <td>0.505704</td>\n",
              "    </tr>\n",
              "    <tr>\n",
              "      <th>1</th>\n",
              "      <td>-2.086426</td>\n",
              "      <td>-0.655405</td>\n",
              "    </tr>\n",
              "    <tr>\n",
              "      <th>2</th>\n",
              "      <td>-2.367950</td>\n",
              "      <td>-0.318477</td>\n",
              "    </tr>\n",
              "    <tr>\n",
              "      <th>3</th>\n",
              "      <td>-2.304197</td>\n",
              "      <td>-0.575368</td>\n",
              "    </tr>\n",
              "    <tr>\n",
              "      <th>4</th>\n",
              "      <td>-2.388777</td>\n",
              "      <td>0.674767</td>\n",
              "    </tr>\n",
              "    <tr>\n",
              "      <th>...</th>\n",
              "      <td>...</td>\n",
              "      <td>...</td>\n",
              "    </tr>\n",
              "    <tr>\n",
              "      <th>145</th>\n",
              "      <td>1.870522</td>\n",
              "      <td>0.382822</td>\n",
              "    </tr>\n",
              "    <tr>\n",
              "      <th>146</th>\n",
              "      <td>1.558492</td>\n",
              "      <td>-0.905314</td>\n",
              "    </tr>\n",
              "    <tr>\n",
              "      <th>147</th>\n",
              "      <td>1.520845</td>\n",
              "      <td>0.266795</td>\n",
              "    </tr>\n",
              "    <tr>\n",
              "      <th>148</th>\n",
              "      <td>1.376391</td>\n",
              "      <td>1.016362</td>\n",
              "    </tr>\n",
              "    <tr>\n",
              "      <th>149</th>\n",
              "      <td>0.959299</td>\n",
              "      <td>-0.022284</td>\n",
              "    </tr>\n",
              "  </tbody>\n",
              "</table>\n",
              "<p>150 rows × 2 columns</p>\n",
              "</div>"
            ],
            "text/plain": [
              "          pc1       pc2\n",
              "0   -2.264542  0.505704\n",
              "1   -2.086426 -0.655405\n",
              "2   -2.367950 -0.318477\n",
              "3   -2.304197 -0.575368\n",
              "4   -2.388777  0.674767\n",
              "..        ...       ...\n",
              "145  1.870522  0.382822\n",
              "146  1.558492 -0.905314\n",
              "147  1.520845  0.266795\n",
              "148  1.376391  1.016362\n",
              "149  0.959299 -0.022284\n",
              "\n",
              "[150 rows x 2 columns]"
            ]
          },
          "metadata": {
            "tags": []
          }
        }
      ]
    },
    {
      "cell_type": "code",
      "metadata": {
        "colab": {
          "base_uri": "https://localhost:8080/"
        },
        "id": "IVEa1ylaunZA",
        "outputId": "dc797c7d-f447-4368-8479-01f0aa29d967"
      },
      "source": [
        "print(principal_df)"
      ],
      "execution_count": 9,
      "outputs": [
        {
          "output_type": "stream",
          "text": [
            "          pc1       pc2\n",
            "0   -2.264542  0.505704\n",
            "1   -2.086426 -0.655405\n",
            "2   -2.367950 -0.318477\n",
            "3   -2.304197 -0.575368\n",
            "4   -2.388777  0.674767\n",
            "..        ...       ...\n",
            "145  1.870522  0.382822\n",
            "146  1.558492 -0.905314\n",
            "147  1.520845  0.266795\n",
            "148  1.376391  1.016362\n",
            "149  0.959299 -0.022284\n",
            "\n",
            "[150 rows x 2 columns]\n"
          ],
          "name": "stdout"
        }
      ]
    },
    {
      "cell_type": "code",
      "metadata": {
        "colab": {
          "base_uri": "https://localhost:8080/",
          "height": 419
        },
        "id": "c7R6B_PyuqMz",
        "outputId": "2e43688d-e216-4963-fc8a-fbcad28afc12"
      },
      "source": [
        "display(finaldf)"
      ],
      "execution_count": 10,
      "outputs": [
        {
          "output_type": "display_data",
          "data": {
            "text/html": [
              "<div>\n",
              "<style scoped>\n",
              "    .dataframe tbody tr th:only-of-type {\n",
              "        vertical-align: middle;\n",
              "    }\n",
              "\n",
              "    .dataframe tbody tr th {\n",
              "        vertical-align: top;\n",
              "    }\n",
              "\n",
              "    .dataframe thead th {\n",
              "        text-align: right;\n",
              "    }\n",
              "</style>\n",
              "<table border=\"1\" class=\"dataframe\">\n",
              "  <thead>\n",
              "    <tr style=\"text-align: right;\">\n",
              "      <th></th>\n",
              "      <th>pc1</th>\n",
              "      <th>pc2</th>\n",
              "      <th>Species</th>\n",
              "    </tr>\n",
              "  </thead>\n",
              "  <tbody>\n",
              "    <tr>\n",
              "      <th>0</th>\n",
              "      <td>-2.264542</td>\n",
              "      <td>0.505704</td>\n",
              "      <td>Iris-setosa</td>\n",
              "    </tr>\n",
              "    <tr>\n",
              "      <th>1</th>\n",
              "      <td>-2.086426</td>\n",
              "      <td>-0.655405</td>\n",
              "      <td>Iris-setosa</td>\n",
              "    </tr>\n",
              "    <tr>\n",
              "      <th>2</th>\n",
              "      <td>-2.367950</td>\n",
              "      <td>-0.318477</td>\n",
              "      <td>Iris-setosa</td>\n",
              "    </tr>\n",
              "    <tr>\n",
              "      <th>3</th>\n",
              "      <td>-2.304197</td>\n",
              "      <td>-0.575368</td>\n",
              "      <td>Iris-setosa</td>\n",
              "    </tr>\n",
              "    <tr>\n",
              "      <th>4</th>\n",
              "      <td>-2.388777</td>\n",
              "      <td>0.674767</td>\n",
              "      <td>Iris-setosa</td>\n",
              "    </tr>\n",
              "    <tr>\n",
              "      <th>...</th>\n",
              "      <td>...</td>\n",
              "      <td>...</td>\n",
              "      <td>...</td>\n",
              "    </tr>\n",
              "    <tr>\n",
              "      <th>145</th>\n",
              "      <td>1.870522</td>\n",
              "      <td>0.382822</td>\n",
              "      <td>Iris-virginica</td>\n",
              "    </tr>\n",
              "    <tr>\n",
              "      <th>146</th>\n",
              "      <td>1.558492</td>\n",
              "      <td>-0.905314</td>\n",
              "      <td>Iris-virginica</td>\n",
              "    </tr>\n",
              "    <tr>\n",
              "      <th>147</th>\n",
              "      <td>1.520845</td>\n",
              "      <td>0.266795</td>\n",
              "      <td>Iris-virginica</td>\n",
              "    </tr>\n",
              "    <tr>\n",
              "      <th>148</th>\n",
              "      <td>1.376391</td>\n",
              "      <td>1.016362</td>\n",
              "      <td>Iris-virginica</td>\n",
              "    </tr>\n",
              "    <tr>\n",
              "      <th>149</th>\n",
              "      <td>0.959299</td>\n",
              "      <td>-0.022284</td>\n",
              "      <td>Iris-virginica</td>\n",
              "    </tr>\n",
              "  </tbody>\n",
              "</table>\n",
              "<p>150 rows × 3 columns</p>\n",
              "</div>"
            ],
            "text/plain": [
              "          pc1       pc2         Species\n",
              "0   -2.264542  0.505704     Iris-setosa\n",
              "1   -2.086426 -0.655405     Iris-setosa\n",
              "2   -2.367950 -0.318477     Iris-setosa\n",
              "3   -2.304197 -0.575368     Iris-setosa\n",
              "4   -2.388777  0.674767     Iris-setosa\n",
              "..        ...       ...             ...\n",
              "145  1.870522  0.382822  Iris-virginica\n",
              "146  1.558492 -0.905314  Iris-virginica\n",
              "147  1.520845  0.266795  Iris-virginica\n",
              "148  1.376391  1.016362  Iris-virginica\n",
              "149  0.959299 -0.022284  Iris-virginica\n",
              "\n",
              "[150 rows x 3 columns]"
            ]
          },
          "metadata": {
            "tags": []
          }
        }
      ]
    },
    {
      "cell_type": "code",
      "metadata": {
        "colab": {
          "base_uri": "https://localhost:8080/",
          "height": 551
        },
        "id": "8xXXI6hAuyhu",
        "outputId": "c992d588-8938-4555-fc44-36ff0b03d65a"
      },
      "source": [
        "import seaborn as sns\n",
        "\n",
        "plt.figure(figsize=(8,8))\n",
        "sns.scatterplot('pc1', 'pc2', hue='Species', data=finaldf, s=100)\n",
        "plt.show()"
      ],
      "execution_count": 11,
      "outputs": [
        {
          "output_type": "stream",
          "text": [
            "/usr/local/lib/python3.7/dist-packages/seaborn/_decorators.py:43: FutureWarning: Pass the following variables as keyword args: x, y. From version 0.12, the only valid positional argument will be `data`, and passing other arguments without an explicit keyword will result in an error or misinterpretation.\n",
            "  FutureWarning\n"
          ],
          "name": "stderr"
        },
        {
          "output_type": "display_data",
          "data": {
            "image/png": "[encoded data removed]",
            "text/plain": [
              "<Figure size 576x576 with 1 Axes>"
            ]
          },
          "metadata": {
            "tags": [],
            "needs_background": "light"
          }
        }
      ]
    },
    {
      "cell_type": "code",
      "metadata": {
        "colab": {
          "base_uri": "https://localhost:8080/",
          "height": 523
        },
        "id": "MJ7ISxJAu4IQ",
        "outputId": "3e752170-2956-4375-be98-59c4568135bb"
      },
      "source": [
        "fig = plt.figure(figsize = (8,8))\n",
        "ax = fig.add_subplot(1,1,1) \n",
        "ax.set_xlabel('Principal Component 1', fontsize = 15)\n",
        "ax.set_ylabel('Principal Component 2', fontsize = 15)\n",
        "ax.set_title('2 component PCA', fontsize = 20)\n",
        "targets = ['Iris-setosa', 'Iris-versicolor', 'Iris-virginica']\n",
        "colors = ['r', 'g', 'b']\n",
        "for target, color in zip(targets,colors):\n",
        "    indicesToKeep = labels == target\n",
        "    ax.scatter(finaldf.loc[indicesToKeep, 'pc1']\n",
        "               , finaldf.loc[indicesToKeep, 'pc2']\n",
        "               , c = color\n",
        "               , s = 50)\n",
        "ax.legend(targets)\n",
        "ax.grid()"
      ],
      "execution_count": 12,
      "outputs": [
        {
          "output_type": "display_data",
          "data": {
            "image/png": "[encoded data removed]",
            "text/plain": [
              "<Figure size 576x576 with 1 Axes>"
            ]
          },
          "metadata": {
            "tags": [],
            "needs_background": "light"
          }
        }
      ]
    },
    {
      "cell_type": "code",
      "metadata": {
        "colab": {
          "base_uri": "https://localhost:8080/"
        },
        "id": "gfztdpSsu9kg",
        "outputId": "137e1aad-49f6-44de-eb80-c2e016cc27af"
      },
      "source": [
        "from sklearn.linear_model import LogisticRegression\n",
        "from sklearn.model_selection import train_test_split\n",
        "from sklearn.metrics import accuracy_score\n",
        "\n",
        "features = finaldf[['pc1', 'pc2']]\n",
        "label = finaldf['Species']\n",
        "\n",
        "x_train, x_test, y_train, y_test = train_test_split(features, label, test_size = 0.35, random_state=42, shuffle=True)\n",
        "model = LogisticRegression()\n",
        "\n",
        "model.fit(x_train, y_train)\n",
        "\n",
        "train_pred = model.predict(x_train)\n",
        "test_pred = model.predict(x_test)\n",
        "\n",
        "print(f\"Train Accuracy: {accuracy_score(y_train, train_pred)*100:.2f}\")\n",
        "print(f\"Test Accuracy: {accuracy_score(y_test, test_pred)*100:.2f}\")"
      ],
      "execution_count": 14,
      "outputs": [
        {
          "output_type": "stream",
          "text": [
            "Train Accuracy: 89.69\n",
            "Test Accuracy: 92.45\n"
          ],
          "name": "stdout"
        }
      ]
    },
    {
      "cell_type": "code",
      "metadata": {
        "colab": {
          "base_uri": "https://localhost:8080/"
        },
        "id": "3uiVUWZNu9jk",
        "outputId": "723cc904-e34d-49c8-a681-6cc8dd1b1b37"
      },
      "source": [
        "x_train.shape"
      ],
      "execution_count": 15,
      "outputs": [
        {
          "output_type": "execute_result",
          "data": {
            "text/plain": [
              "(97, 2)"
            ]
          },
          "metadata": {
            "tags": []
          },
          "execution_count": 15
        }
      ]
    },
    {
      "cell_type": "code",
      "metadata": {
        "colab": {
          "base_uri": "https://localhost:8080/",
          "height": 374
        },
        "id": "9MbAXEL7vcxP",
        "outputId": "f2225d7d-a039-49ae-ed48-9048a5358e1f"
      },
      "source": [
        "from sklearn.neighbors import KNeighborsClassifier\n",
        "\n",
        "train_acc = []\n",
        "test_acc = []\n",
        "k_range = list(range(1, 90, 2)) \n",
        "\n",
        "for k in k_range:\n",
        "    model = KNeighborsClassifier(k)\n",
        "    model.fit(x_train, y_train)\n",
        "    y_pred_test = model.predict(x_test)\n",
        "    y_pred_train = model.predict(x_train)\n",
        "    train_acc.append(accuracy_score(y_train, y_pred_train))\n",
        "    test_acc.append(accuracy_score(y_test, y_pred_test))\n",
        "    \n",
        "plt.figure(figsize=(20, 6))\n",
        "plt.subplot(121)\n",
        "plt.plot(k_range, train_acc)\n",
        "plt.xlim(1, 12)\n",
        "plt.subplot(122)\n",
        "plt.plot(k_range, test_acc)\n",
        "plt.xlim(1, 12)\n",
        "plt.show()"
      ],
      "execution_count": 16,
      "outputs": [
        {
          "output_type": "display_data",
          "data": {
            "image/png": "[encoded data removed]",
            "text/plain": [
              "<Figure size 1440x432 with 2 Axes>"
            ]
          },
          "metadata": {
            "tags": [],
            "needs_background": "light"
          }
        }
      ]
    },
    {
      "cell_type": "code",
      "metadata": {
        "colab": {
          "base_uri": "https://localhost:8080/"
        },
        "id": "gxf3NsjDvcso",
        "outputId": "ac203c38-e5fa-498a-f19c-3ff7884a69cf"
      },
      "source": [
        "model = KNeighborsClassifier(11)\n",
        "model.fit(x_train, y_train)\n",
        "y_pred_test = model.predict(x_test)\n",
        "y_pred_train = model.predict(x_train)\n",
        "print(f\"Train accuracy: {accuracy_score(y_train, y_pred_train)*100:.2f}\")\n",
        "print(f\"Test accuracy: {accuracy_score(y_test, y_pred_test)*100:.2f}\")"
      ],
      "execution_count": 17,
      "outputs": [
        {
          "output_type": "stream",
          "text": [
            "Train accuracy: 89.69\n",
            "Test accuracy: 94.34\n"
          ],
          "name": "stdout"
        }
      ]
    },
    {
      "cell_type": "code",
      "metadata": {
        "id": "wDqCIj5Vvcr4"
      },
      "source": [
        ""
      ],
      "execution_count": null,
      "outputs": []
    }
  ]
}