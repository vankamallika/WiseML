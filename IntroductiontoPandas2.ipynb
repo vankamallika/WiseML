{
  "nbformat": 4,
  "nbformat_minor": 0,
  "metadata": {
    "colab": {
      "name": "IntroductiontoPandas2.ipynb",
      "private_outputs": true,
      "provenance": [],
      "collapsed_sections": [],
      "include_colab_link": true
    },
    "kernelspec": {
      "name": "python3",
      "display_name": "Python 3"
    }
  },
  "cells": [
    {
      "cell_type": "markdown",
      "metadata": {
        "id": "view-in-github",
        "colab_type": "text"
      },
      "source": [
        "<a href=\"https://colab.research.google.com/github/TetaliVarshitha/WiseML/blob/main/IntroductiontoPandas2.ipynb\" target=\"_parent\"><img src=\"https://colab.research.google.com/assets/colab-badge.svg\" alt=\"Open In Colab\"/></a>"
      ]
    },
    {
      "cell_type": "markdown",
      "metadata": {
        "id": "S1WzLof2BcLn"
      },
      "source": [
        "# Objectives\n",
        "\n",
        "At the end of the experiment you will able to\n",
        "\n",
        "* perform data cleaning, manipulation and pre-processing using Pandas"
      ]
    },
    {
      "cell_type": "markdown",
      "metadata": {
        "id": "GHx209vkCRGY"
      },
      "source": [
        "## Dataset\n",
        "\n",
        "In this Experiment you will be using movies dataset. The dataset contains 77 rows and 8 columns. The columns are as follows:\n",
        "\n",
        "* Film\n",
        "* Genre\n",
        "     - Romance, Comedy, Drama, Animation, Fantasy, Action\n",
        "* Lead Studio\n",
        "* Audience score in percentage\n",
        "* Profitability\n",
        "* Rotten Tomatoes in percentage\n",
        "* Worldwide Gross\n",
        "* Year"
      ]
    },
    {
      "cell_type": "markdown",
      "metadata": {
        "id": "7A64kE6zEPb6"
      },
      "source": [
        "## Features of Pandas\n",
        "\n",
        "* Fast and efficient DataFrame object with default and customized indexing.\n",
        "* Tools for loading data into in-memory data objects from different file formats.\n",
        "* Data alignment and integrated handling of missing data.\n",
        "* Reshaping and pivoting of date sets.\n",
        "* Label-based slicing, indexing and subsetting of large data sets.\n",
        "* Columns from a data structure can be deleted or inserted.\n",
        "* Group by data for aggregation and transformations.\n",
        "* High performance merging and joining of data.\n",
        "* Time Series functionality.\n",
        "\n",
        "Now it is time to work on practicals. Following Are the given Exercise:"
      ]
    },
    {
      "cell_type": "markdown",
      "metadata": {
        "id": "T0yaZ0r72DDi"
      },
      "source": [
        "## Run the below code cell to download the movies data"
      ]
    },
    {
      "cell_type": "code",
      "metadata": {
        "id": "E1cwBNxo1RPU"
      },
      "source": [
        "!wget https://cdn.talentsprint.com/aiml/movies.csv"
      ],
      "execution_count": null,
      "outputs": []
    },
    {
      "cell_type": "code",
      "metadata": {
        "id": "2jTSLqT4EHSk"
      },
      "source": [
        "import pandas as pd"
      ],
      "execution_count": null,
      "outputs": []
    },
    {
      "cell_type": "code",
      "metadata": {
        "id": "OjI4lOVmERN5"
      },
      "source": [
        "moviesdata = pd.read_csv(\"movies.csv\")"
      ],
      "execution_count": null,
      "outputs": []
    },
    {
      "cell_type": "code",
      "metadata": {
        "id": "Cz3cDaw2F_Fb"
      },
      "source": [
        "moviesdata.head()"
      ],
      "execution_count": null,
      "outputs": []
    },
    {
      "cell_type": "markdown",
      "metadata": {
        "id": "7lFxb7yqFOCn"
      },
      "source": [
        "### Exercises 1: How many movies are listed in the moviesdata dataframe?"
      ]
    },
    {
      "cell_type": "code",
      "metadata": {
        "id": "Id6nA4idFZUH"
      },
      "source": [
        "moviesdata.shape[0]"
      ],
      "execution_count": null,
      "outputs": []
    },
    {
      "cell_type": "markdown",
      "metadata": {
        "id": "951to2E3Fzqt"
      },
      "source": [
        "### Exercises 2: How many movies were made in the year 2009?"
      ]
    },
    {
      "cell_type": "code",
      "metadata": {
        "id": "mujshh9uEgFz"
      },
      "source": [
        "grouped = moviesdata.groupby('Year')\r\n",
        "print(grouped.get_group(2009))"
      ],
      "execution_count": null,
      "outputs": []
    },
    {
      "cell_type": "markdown",
      "metadata": {
        "id": "lNhxrJbhFBDC"
      },
      "source": [
        "### Exercises 3: Which year saw the most films released?"
      ]
    },
    {
      "cell_type": "code",
      "metadata": {
        "id": "hP6hZLJUSW03"
      },
      "source": [
        ""
      ],
      "execution_count": null,
      "outputs": []
    },
    {
      "cell_type": "markdown",
      "metadata": {
        "id": "lfA0jgISGGfx"
      },
      "source": [
        "### Exercises 4: How many movies were made from 2010 through 2011?"
      ]
    },
    {
      "cell_type": "code",
      "metadata": {
        "id": "GT87nhGUGKqs"
      },
      "source": [
        "result = moviesdata[(moviesdata['Year'] == 2010) | (moviesdata['Year'] == 2011)]\r\n",
        "result.sort_values(by = 'Year')"
      ],
      "execution_count": null,
      "outputs": []
    },
    {
      "cell_type": "markdown",
      "metadata": {
        "id": "rERFAv1xGy4x"
      },
      "source": [
        "### Exercises 5: In Genre column, sometimes Comedy is spelled as Comdy, comedy and Romance is spelled as romance, Romence. Replace all the misspelt words with correct words"
      ]
    },
    {
      "cell_type": "code",
      "metadata": {
        "id": "8SVeciUSGyPv"
      },
      "source": [
        "moviesdata.replace(to_replace = ['Comdy', 'comedy'], value = 'Comedy')\r\n",
        "moviesdata.replace(to_replace = ['romance', 'Romence'], value = 'Romance')"
      ],
      "execution_count": null,
      "outputs": []
    },
    {
      "cell_type": "markdown",
      "metadata": {
        "id": "XotWOMJ_IJPF"
      },
      "source": [
        "### Exercises 6: How many Comedy Genre movies has release in 2009?"
      ]
    },
    {
      "cell_type": "code",
      "metadata": {
        "id": "5uUubE70GOWL"
      },
      "source": [
        "result = moviesdata[(moviesdata['Year'] == 2009) & (moviesdata['Genre'] == \"Comedy\")]\r\n",
        "result"
      ],
      "execution_count": null,
      "outputs": []
    },
    {
      "cell_type": "markdown",
      "metadata": {
        "id": "j-zcJYfdPiG3"
      },
      "source": [
        "### Exercises 7: Which year as the most number of Romance Genre Movies releases?"
      ]
    },
    {
      "cell_type": "code",
      "metadata": {
        "id": "28nVARnJIdnJ"
      },
      "source": [
        ""
      ],
      "execution_count": null,
      "outputs": []
    },
    {
      "cell_type": "markdown",
      "metadata": {
        "id": "QxEtNLKoQGKq"
      },
      "source": [
        "### Exercises 8: How many films are made by Sony Lead Studio?"
      ]
    },
    {
      "cell_type": "code",
      "metadata": {
        "id": "def6pUxHPxd-"
      },
      "source": [
        "result = moviesdata[moviesdata['Lead Studio'] == 'Sony'] \r\n",
        "result.shape[0]"
      ],
      "execution_count": null,
      "outputs": []
    },
    {
      "cell_type": "markdown",
      "metadata": {
        "id": "3uU00yjHQ7xC"
      },
      "source": [
        "### Exercises 9: How many films are having Audience score less than 50 %?"
      ]
    },
    {
      "cell_type": "code",
      "metadata": {
        "id": "f6KNkSfGP_8o"
      },
      "source": [
        "result = moviesdata[moviesdata['Audience score %'] < 50]\r\n",
        "result.shape[0]"
      ],
      "execution_count": null,
      "outputs": []
    },
    {
      "cell_type": "markdown",
      "metadata": {
        "id": "gsOE9jyoRUuD"
      },
      "source": [
        "### Exercises 10: Display all the movies done by Universal Lead Studio?"
      ]
    },
    {
      "cell_type": "code",
      "metadata": {
        "id": "Dqd4XTCLRLh9"
      },
      "source": [
        "result = moviesdata[moviesdata['Lead Studio'] == 'Universal']\r\n",
        "result"
      ],
      "execution_count": null,
      "outputs": []
    },
    {
      "cell_type": "code",
      "metadata": {
        "id": "pHRJOfpeR6YT"
      },
      "source": [
        ""
      ],
      "execution_count": null,
      "outputs": []
    }
  ]
}